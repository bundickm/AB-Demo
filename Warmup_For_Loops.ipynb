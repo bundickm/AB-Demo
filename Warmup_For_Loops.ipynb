{
  "nbformat": 4,
  "nbformat_minor": 0,
  "metadata": {
    "colab": {
      "name": "Warmup - For Loops.ipynb",
      "provenance": [],
      "collapsed_sections": [],
      "include_colab_link": true
    },
    "kernelspec": {
      "name": "python3",
      "display_name": "Python 3"
    }
  },
  "cells": [
    {
      "cell_type": "markdown",
      "metadata": {
        "id": "view-in-github",
        "colab_type": "text"
      },
      "source": [
        "<a href=\"https://colab.research.google.com/github/bundickm/AB-Demo/blob/master/Warmup_For_Loops.ipynb\" target=\"_parent\"><img src=\"https://colab.research.google.com/assets/colab-badge.svg\" alt=\"Open In Colab\"/></a>"
      ]
    },
    {
      "cell_type": "markdown",
      "metadata": {
        "id": "Q01dn0uZyS9Y",
        "colab_type": "text"
      },
      "source": [
        "> *You can practice shooting eight hours a day, but if your technique is wrong, then all you become is very good at shooting the wrong way. Get the fundamentals down and the level of everything you do will rise.*\n",
        "-Michael Jordan\n",
        "\n",
        "Pre-lecture warm-ups are all about setting you up for success - sometimes that means code challenges, sometimes it means discussing interview questions. Today it means working on fundamentals. \n",
        "\n",
        "Read through the lecture notebook with a focus on understanding. At the end of the sections are code challenges for you to practice and reinforce what you read about. After lecture ends, a team lead will post a solution notebook (with explanations) for those exercises. \n",
        "\n",
        "Should you finish early, there is additional content at the bottom to explore. If you don't complete the notebook within the hour, don't sweat it, this notebook is meant for you to build up your knowledge and skills - you can always continue working on it after lecture or when you complete the assignment."
      ]
    },
    {
      "cell_type": "markdown",
      "metadata": {
        "id": "vBnUBCBV7Jpm",
        "colab_type": "text"
      },
      "source": [
        "# For Loops"
      ]
    },
    {
      "cell_type": "markdown",
      "metadata": {
        "id": "8HQVaRwYeDV9",
        "colab_type": "text"
      },
      "source": [
        "## Basic Loops\n",
        "Python for loops iterate over items in an iterable object - the most commmon iterables being `list`, `tuple`, `dictionary`, `set`, and `string`. The default behavior for a for loop in Python is actually a for-each loop, meaning \"for each item in this iterable, do something.\"\n",
        "\n",
        "![image.png](data:image/png;base64,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)"
      ]
    },
    {
      "cell_type": "code",
      "metadata": {
        "id": "EoEiF6yO6zB1",
        "colab_type": "code",
        "outputId": "2e2994b5-3071-40a3-e6d3-546d1bf042bf",
        "colab": {
          "base_uri": "https://localhost:8080/",
          "height": 72
        }
      },
      "source": [
        "arr = ['a', 'b', 'c']\n",
        "\n",
        "for item in arr:\n",
        "  print(item)"
      ],
      "execution_count": 0,
      "outputs": [
        {
          "output_type": "stream",
          "text": [
            "a\n",
            "b\n",
            "c\n"
          ],
          "name": "stdout"
        }
      ]
    },
    {
      "cell_type": "code",
      "metadata": {
        "id": "ipreXrqC8EmA",
        "colab_type": "code",
        "outputId": "51da8995-3f47-47e1-85df-6cd4ebd62b58",
        "colab": {
          "base_uri": "https://localhost:8080/",
          "height": 72
        }
      },
      "source": [
        "string = 'abc'\n",
        "\n",
        "for char in string:\n",
        "  print(char)"
      ],
      "execution_count": 0,
      "outputs": [
        {
          "output_type": "stream",
          "text": [
            "a\n",
            "b\n",
            "c\n"
          ],
          "name": "stdout"
        }
      ]
    },
    {
      "cell_type": "code",
      "metadata": {
        "id": "43EqDBiM8P9M",
        "colab_type": "code",
        "outputId": "7eb1f0bb-93aa-4aad-c0f6-a8cc18eeadef",
        "colab": {
          "base_uri": "https://localhost:8080/",
          "height": 72
        }
      },
      "source": [
        "dictionary = {'a':1, 'b':2, 'c':3}\n",
        "\n",
        "for key in dictionary:\n",
        "  print(key)"
      ],
      "execution_count": 0,
      "outputs": [
        {
          "output_type": "stream",
          "text": [
            "a\n",
            "b\n",
            "c\n"
          ],
          "name": "stdout"
        }
      ]
    },
    {
      "cell_type": "markdown",
      "metadata": {
        "id": "1R4hEWAUdKxR",
        "colab_type": "text"
      },
      "source": [
        "A for loop can also be used to iterate over a series of numbers using the `range` function. If those numbers need to be referenced but we don't care about the variable we traditionally use `i` over another placeholder like `num`."
      ]
    },
    {
      "cell_type": "code",
      "metadata": {
        "id": "y9GV3P6Bdlql",
        "colab_type": "code",
        "outputId": "c5ad15b5-0624-4264-ffd6-df65e7fb3082",
        "colab": {
          "base_uri": "https://localhost:8080/",
          "height": 72
        }
      },
      "source": [
        "for i in range(3):\n",
        "  print(i)"
      ],
      "execution_count": 0,
      "outputs": [
        {
          "output_type": "stream",
          "text": [
            "0\n",
            "1\n",
            "2\n"
          ],
          "name": "stdout"
        }
      ]
    },
    {
      "cell_type": "code",
      "metadata": {
        "id": "u9MXsP_ZNPKn",
        "colab_type": "code",
        "outputId": "91fe874e-69ef-4497-a5fa-6a5957d25939",
        "colab": {
          "base_uri": "https://localhost:8080/",
          "height": 72
        }
      },
      "source": [
        "for i in range(5, 8):\n",
        "  print(i)"
      ],
      "execution_count": 0,
      "outputs": [
        {
          "output_type": "stream",
          "text": [
            "5\n",
            "6\n",
            "7\n"
          ],
          "name": "stdout"
        }
      ]
    },
    {
      "cell_type": "markdown",
      "metadata": {
        "id": "Ge6ZG8Hzd1nB",
        "colab_type": "text"
      },
      "source": [
        "Those numbers can be used to reference a location in the iterable or used in calculations."
      ]
    },
    {
      "cell_type": "code",
      "metadata": {
        "id": "jzFP0qAA8cEu",
        "colab_type": "code",
        "outputId": "c5d1865c-cf4c-40e5-d018-601777141ecf",
        "colab": {
          "base_uri": "https://localhost:8080/",
          "height": 72
        }
      },
      "source": [
        "arr = ['a', 'b', 'c']\n",
        "\n",
        "for i in range(3):\n",
        "  print(arr[i])"
      ],
      "execution_count": 0,
      "outputs": [
        {
          "output_type": "stream",
          "text": [
            "a\n",
            "b\n",
            "c\n"
          ],
          "name": "stdout"
        }
      ]
    },
    {
      "cell_type": "code",
      "metadata": {
        "id": "DO5Boj6NNwhs",
        "colab_type": "code",
        "outputId": "dff9aaee-a908-40ce-a8ef-495e54df2242",
        "colab": {
          "base_uri": "https://localhost:8080/",
          "height": 72
        }
      },
      "source": [
        "for i in range(3):\n",
        "  print(i*2)"
      ],
      "execution_count": 0,
      "outputs": [
        {
          "output_type": "stream",
          "text": [
            "0\n",
            "2\n",
            "4\n"
          ],
          "name": "stdout"
        }
      ]
    },
    {
      "cell_type": "markdown",
      "metadata": {
        "id": "moklKFnMxqxn",
        "colab_type": "text"
      },
      "source": [
        "Maybe you don't need to know any of the values of your iterable, in that case, use `_` instead of a variable name or `i`. The underscore acts as a kind of shorthand to yourself and other programmers that the variable isn't used for anything other than a placeholder because the syntax demands it."
      ]
    },
    {
      "cell_type": "code",
      "metadata": {
        "id": "mi3VoYARxp8w",
        "colab_type": "code",
        "outputId": "57521f42-7d7e-4007-c001-8c84a0d21971",
        "colab": {
          "base_uri": "https://localhost:8080/",
          "height": 72
        }
      },
      "source": [
        "for _ in range(3):\n",
        "  print(\"Bock bock, I'm a chicken.\")"
      ],
      "execution_count": 0,
      "outputs": [
        {
          "output_type": "stream",
          "text": [
            "Bock bock, I'm a chicken.\n",
            "Bock bock, I'm a chicken.\n",
            "Bock bock, I'm a chicken.\n"
          ],
          "name": "stdout"
        }
      ]
    },
    {
      "cell_type": "markdown",
      "metadata": {
        "id": "j51AroWdelk4",
        "colab_type": "text"
      },
      "source": [
        "## Break and Continue\n",
        "For loops can be interrupted completely with a `break` statement, or on a single iteration with a `continue` statement. Nothing within the loop below the `break` or `continue` will be executed."
      ]
    },
    {
      "cell_type": "code",
      "metadata": {
        "id": "BTIF_RTidu7K",
        "colab_type": "code",
        "outputId": "aaef75d7-a1b3-40c2-bcce-f4a0966720b2",
        "colab": {
          "base_uri": "https://localhost:8080/",
          "height": 35
        }
      },
      "source": [
        "for i in range(3):\n",
        "  print(i)\n",
        "  break"
      ],
      "execution_count": 0,
      "outputs": [
        {
          "output_type": "stream",
          "text": [
            "0\n"
          ],
          "name": "stdout"
        }
      ]
    },
    {
      "cell_type": "code",
      "metadata": {
        "id": "EA17qvZpe8Qn",
        "colab_type": "code",
        "outputId": "ba3fbb96-79b6-4558-ad01-1598dd35a1ab",
        "colab": {
          "base_uri": "https://localhost:8080/",
          "height": 53
        }
      },
      "source": [
        "for i in range(3):\n",
        "  if i == 1:\n",
        "    continue\n",
        "  print(i)"
      ],
      "execution_count": 0,
      "outputs": [
        {
          "output_type": "stream",
          "text": [
            "0\n",
            "2\n"
          ],
          "name": "stdout"
        }
      ]
    },
    {
      "cell_type": "markdown",
      "metadata": {
        "id": "Js5ohuDMgRDw",
        "colab_type": "text"
      },
      "source": [
        "These statements are useful to prevent unnecessary computation if your conditions are already met. For instance, let's say I want the first number divisible by 3 and 5 under 100. In that case I only need to reach `15` and then exit, no need to check every other number after it."
      ]
    },
    {
      "cell_type": "code",
      "metadata": {
        "id": "WALEO8QeffAR",
        "colab_type": "code",
        "outputId": "12cbbe31-0f29-4cc4-8e05-5d148ff77291",
        "colab": {
          "base_uri": "https://localhost:8080/",
          "height": 35
        }
      },
      "source": [
        "for i in range(1, 100):\n",
        "  if (i % 3 == 0) and (i % 5 == 0):\n",
        "    print(i)\n",
        "    break"
      ],
      "execution_count": 0,
      "outputs": [
        {
          "output_type": "stream",
          "text": [
            "15\n"
          ],
          "name": "stdout"
        }
      ]
    },
    {
      "cell_type": "markdown",
      "metadata": {
        "id": "pAK0G_ETju4q",
        "colab_type": "text"
      },
      "source": [
        "## Nested For Loops\n",
        "For loops can contain any code you want, that includes other for loops. This may be helpful if you are comparing two iterables or need to count at different rates. Be careful with nesting for loops though, because the interior loop executes fully for every single tick of the exterior loop. This can add a lot of computational complexity depending on the situation."
      ]
    },
    {
      "cell_type": "code",
      "metadata": {
        "id": "3N5dI85_i_MP",
        "colab_type": "code",
        "outputId": "d816ecd9-6d9d-4a74-b91d-51566d40562b",
        "colab": {
          "base_uri": "https://localhost:8080/",
          "height": 235
        }
      },
      "source": [
        "for i in range(3):\n",
        "  print('i =', i)\n",
        "  for j in range(2):\n",
        "    print('j =', j)\n",
        "  print()"
      ],
      "execution_count": 0,
      "outputs": [
        {
          "output_type": "stream",
          "text": [
            "i = 0\n",
            "j = 0\n",
            "j = 1\n",
            "\n",
            "i = 1\n",
            "j = 0\n",
            "j = 1\n",
            "\n",
            "i = 2\n",
            "j = 0\n",
            "j = 1\n",
            "\n"
          ],
          "name": "stdout"
        }
      ]
    },
    {
      "cell_type": "code",
      "metadata": {
        "id": "ZjilJZWgkrlV",
        "colab_type": "code",
        "outputId": "91822c18-6493-47eb-b07d-0327a24de8c2",
        "colab": {
          "base_uri": "https://localhost:8080/",
          "height": 126
        }
      },
      "source": [
        "arr_fruit = ['berry', 'apple', 'banana']\n",
        "arr_veg = ['carrot', 'parsnip']\n",
        "\n",
        "for fruit in arr_fruit:\n",
        "  for veg in arr_veg:\n",
        "    if len(veg) > len(fruit):\n",
        "      print(veg)\n",
        "    else:\n",
        "      print(fruit)"
      ],
      "execution_count": 0,
      "outputs": [
        {
          "output_type": "stream",
          "text": [
            "carrot\n",
            "parsnip\n",
            "carrot\n",
            "parsnip\n",
            "banana\n",
            "parsnip\n"
          ],
          "name": "stdout"
        }
      ]
    },
    {
      "cell_type": "markdown",
      "metadata": {
        "id": "i3GOytKUoLo8",
        "colab_type": "text"
      },
      "source": [
        "You can even have the interior loop start where the exterior loop is at."
      ]
    },
    {
      "cell_type": "code",
      "metadata": {
        "id": "V01AA5LKoKsr",
        "colab_type": "code",
        "outputId": "3a59bf8d-6d48-435a-ef20-ab773170d1ec",
        "colab": {
          "base_uri": "https://localhost:8080/",
          "height": 235
        }
      },
      "source": [
        "for i in range(3):\n",
        "  print('i =', i)\n",
        "  for j in range(i,3):\n",
        "    print(j)\n",
        "  print()"
      ],
      "execution_count": 0,
      "outputs": [
        {
          "output_type": "stream",
          "text": [
            "i = 0\n",
            "0\n",
            "1\n",
            "2\n",
            "\n",
            "i = 1\n",
            "1\n",
            "2\n",
            "\n",
            "i = 2\n",
            "2\n",
            "\n"
          ],
          "name": "stdout"
        }
      ]
    },
    {
      "cell_type": "markdown",
      "metadata": {
        "id": "2WLYeuSwl8na",
        "colab_type": "text"
      },
      "source": [
        "## Enumerate\n",
        "Sometimes you may want to loop through an iterable but also keep track of how many iterations you have done. You can do this easily with a count variable."
      ]
    },
    {
      "cell_type": "code",
      "metadata": {
        "id": "GJ8DoG2hlXvC",
        "colab_type": "code",
        "outputId": "bbf24e31-d28d-4e86-b107-9877ea15459f",
        "colab": {
          "base_uri": "https://localhost:8080/",
          "height": 72
        }
      },
      "source": [
        "count = 0\n",
        "\n",
        "for fruit in arr_fruit:\n",
        "  print(count, fruit)\n",
        "  count += 1"
      ],
      "execution_count": 0,
      "outputs": [
        {
          "output_type": "stream",
          "text": [
            "0 berry\n",
            "1 apple\n",
            "2 banana\n"
          ],
          "name": "stdout"
        }
      ]
    },
    {
      "cell_type": "markdown",
      "metadata": {
        "id": "NiCWuV3ymry9",
        "colab_type": "text"
      },
      "source": [
        "While that is simple enough, Python knows this is a common task and provides the `enumerate` function. As you can see below, it attaches a count to each item in the array."
      ]
    },
    {
      "cell_type": "code",
      "metadata": {
        "id": "UfBnE7qOmo1r",
        "colab_type": "code",
        "outputId": "7af3bb65-95f5-4d6f-ec9f-9140574dae2e",
        "colab": {
          "base_uri": "https://localhost:8080/",
          "height": 35
        }
      },
      "source": [
        "list(enumerate(arr_fruit))"
      ],
      "execution_count": 0,
      "outputs": [
        {
          "output_type": "execute_result",
          "data": {
            "text/plain": [
              "[(0, 'berry'), (1, 'apple'), (2, 'banana')]"
            ]
          },
          "metadata": {
            "tags": []
          },
          "execution_count": 27
        }
      ]
    },
    {
      "cell_type": "markdown",
      "metadata": {
        "id": "ITagI_M3nZQB",
        "colab_type": "text"
      },
      "source": [
        "We can unpack those items just like we would any tuple."
      ]
    },
    {
      "cell_type": "code",
      "metadata": {
        "id": "KT0keRNdnB4X",
        "colab_type": "code",
        "outputId": "85917929-16b6-49a9-ebfc-64757d507a91",
        "colab": {
          "base_uri": "https://localhost:8080/",
          "height": 53
        }
      },
      "source": [
        "first_fruit_count, first_fruit = list(enumerate(arr_fruit))[0]\n",
        "print(first_fruit_count)\n",
        "print(first_fruit)"
      ],
      "execution_count": 0,
      "outputs": [
        {
          "output_type": "stream",
          "text": [
            "0\n",
            "berry\n"
          ],
          "name": "stdout"
        }
      ]
    },
    {
      "cell_type": "markdown",
      "metadata": {
        "id": "5WZZ4cqNnsej",
        "colab_type": "text"
      },
      "source": [
        "Now lets throw it in a loop where it is much more valuable to us. This saves us from having to initialize and increment another variable, leading to cleaner and easier to maintain code."
      ]
    },
    {
      "cell_type": "code",
      "metadata": {
        "id": "oJJIcySBnrmw",
        "colab_type": "code",
        "outputId": "a5a3285f-de45-482a-bd45-31a184f0c700",
        "colab": {
          "base_uri": "https://localhost:8080/",
          "height": 126
        }
      },
      "source": [
        "for i, fruit in enumerate(arr_fruit):\n",
        "  print(i)\n",
        "  print(fruit)"
      ],
      "execution_count": 0,
      "outputs": [
        {
          "output_type": "stream",
          "text": [
            "0\n",
            "berry\n",
            "1\n",
            "apple\n",
            "2\n",
            "banana\n"
          ],
          "name": "stdout"
        }
      ]
    },
    {
      "cell_type": "markdown",
      "metadata": {
        "id": "CMGZe0JCor7V",
        "colab_type": "text"
      },
      "source": [
        "And, just like we did with enumerate we can unpack tuples or dictionaries in a for loop as well."
      ]
    },
    {
      "cell_type": "code",
      "metadata": {
        "id": "3EvKLr5ZnhaC",
        "colab_type": "code",
        "outputId": "6a9d8fee-07ac-497d-8755-e8fbc7eecba4",
        "colab": {
          "base_uri": "https://localhost:8080/",
          "height": 72
        }
      },
      "source": [
        "dictionary = {'a':1, 'b':2, 'c':3}\n",
        "\n",
        "for key, value in dictionary.items():\n",
        "  print(key,':',value)"
      ],
      "execution_count": 0,
      "outputs": [
        {
          "output_type": "stream",
          "text": [
            "a : 1\n",
            "b : 2\n",
            "c : 3\n"
          ],
          "name": "stdout"
        }
      ]
    },
    {
      "cell_type": "markdown",
      "metadata": {
        "id": "IsnHmzfOlHGX",
        "colab_type": "text"
      },
      "source": [
        "## For Loop Practice"
      ]
    },
    {
      "cell_type": "markdown",
      "metadata": {
        "colab_type": "text",
        "id": "FjIzBDb_n--I"
      },
      "source": [
        "### Square of Stars\n",
        "Use a for loop to produce a n x n square of asterisks like the 4x4 square below. This can be done with nested for loops, but there is a way to do it with a single for loop. Assume `n` can be any positive integer, so don't just loop `print('* * * *')` 4 times.\n",
        "```\n",
        "* * * *  \n",
        "* * * *  \n",
        "* * * *  \n",
        "* * * *  \n",
        "```\n",
        "The Python `print` function normally moves to the next line after it executes. You can change this behavior by setting the `end` parameter to something other than newline(`\\n`). Reference [here.](https://www.geeksforgeeks.org/python-output-using-print-function/)"
      ]
    },
    {
      "cell_type": "code",
      "metadata": {
        "id": "7Oj__Wjj1fLM",
        "colab_type": "code",
        "colab": {}
      },
      "source": [
        ""
      ],
      "execution_count": 0,
      "outputs": []
    },
    {
      "cell_type": "markdown",
      "metadata": {
        "id": "fMc7Q7ADoUCp",
        "colab_type": "text"
      },
      "source": [
        "### Fizz Buzz\n",
        "Write a program which iterates over the integers from 0 to `n`. For multiples of three print \"Fizz\" instead of the number, and for the multiples of five print \"Buzz\". For numbers which are multiples of both three and five print \"FizzBuzz\". If it is not a multiple of 3 or 5, simply print the number. Once you have an answer, how can you use `continue` to make the code slightly faster?\n",
        "\n",
        "Example from 0 to 5:\n",
        "```\n",
        "fizzbuzz\n",
        "1\n",
        "2                              \n",
        "fizz                              \n",
        "4                              \n",
        "buzz\n",
        "```\n",
        "\n",
        "If you are unsure how to check if a number is odd or even in Python look into **modulo** and **floor division** later, but for now simply click [here.](https://stackoverflow.com/a/21837247)"
      ]
    },
    {
      "cell_type": "code",
      "metadata": {
        "id": "k0rmOem3phGK",
        "colab_type": "code",
        "colab": {}
      },
      "source": [
        ""
      ],
      "execution_count": 0,
      "outputs": []
    },
    {
      "cell_type": "markdown",
      "metadata": {
        "id": "N8WmyUQ2H8ju",
        "colab_type": "text"
      },
      "source": [
        "# Debugging"
      ]
    },
    {
      "cell_type": "markdown",
      "metadata": {
        "id": "X4WR96osxI7v",
        "colab_type": "text"
      },
      "source": [
        "When starting out with programming, and later when your programs get more complex, you might find yourself spending a lot of time hunting down errors hiding in your code. There are a couple of techniques for cutting down the search time for a bug, but the most basic is print debugging. \n",
        "\n",
        "The method is simple, add `print` statements to your code at certain points to see where Python gets to before failing (runtime error) and also to check the value of variables at intermediate steps (semantic error).\n",
        "\n",
        "Let's assume you have a hundred lines of code and don't know where along the way Python is crashing. As we saw before, you can read the error message to narrow the search but we will also assume the message was unhelpful. In that case we can throw a print statement at line 50. We know if that print occurs our issue is in the bottom half of our code and if it doesn't then the top half is the problem. We can repeat this over and over again with the problem halves until we narrow the problem to a specific line.\n",
        "\n",
        "```python\n",
        "x = 5\n",
        "x += 5\n",
        "# Hundred lines of code here\n",
        "print('Debug - Got to line 100') # This code fails after reaching this point so we know the issue is below it.\n",
        "x -= 5\n",
        "5 = x\n",
        "```\n",
        "\n",
        "Some times, code runs but doesn't give us the output we expected. In those cases we can use print statements to check intermediate values that should point to where it all went wrong. Basically asking Python, \"what is the value of this variable? How about after I add 5 to it? What about when it went through the function?\" Assume the example code below should result in `x` equal to 10 if it were running correctly.\n",
        "\n",
        "```python\n",
        "# Print statements to check intermediate values\n",
        "def foo(x):\n",
        "  print('Debug - x:', x)\n",
        "  return 5\n",
        "\n",
        "x = 5\n",
        "print('Debug - x:', x)\n",
        "x + 5\n",
        "print('Debug - x:', x)\n",
        "x = foo(x)\n",
        "print('Debug - x:', x)\n",
        "```\n",
        "\n",
        "We will practice both of these below with simple and contrived examples for ease of use, but trust that these methods work just on larger chunks of code as well."
      ]
    },
    {
      "cell_type": "markdown",
      "metadata": {
        "id": "q_pUvSGu2fdR",
        "colab_type": "text"
      },
      "source": [
        "### Narrowing Down"
      ]
    },
    {
      "cell_type": "code",
      "metadata": {
        "id": "bK5A7cos2kpu",
        "colab_type": "code",
        "colab": {}
      },
      "source": [
        "# The following code has a runtime error. Use the next cell for the exercise\n",
        "# so that you can use this cell as reference if needed.\n",
        "x = 5\n",
        "x + 5\n",
        "x = x + 5\n",
        "x += 5\n",
        "5 = x\n",
        "x - 5\n",
        "x is 5\n",
        "x = x + x\n",
        "print(x)"
      ],
      "execution_count": 0,
      "outputs": []
    },
    {
      "cell_type": "code",
      "metadata": {
        "id": "J5zDV5c-3nGZ",
        "colab_type": "code",
        "colab": {}
      },
      "source": [
        "# Ignore the error message and use print debugging to narrow down the location\n",
        "# of the error.\n",
        "x = 5\n",
        "x + 5\n",
        "x = x + 5\n",
        "x += 5\n",
        "5 = x\n",
        "x - 5\n",
        "x is 5\n",
        "x = x + x\n",
        "print(x)"
      ],
      "execution_count": 0,
      "outputs": []
    },
    {
      "cell_type": "code",
      "metadata": {
        "id": "_U_4fxpc4JN4",
        "colab_type": "code",
        "colab": {}
      },
      "source": [
        "# Once you have located the error, correct the code. \n",
        "# Your final output should print '10'\n",
        "x = 5\n",
        "x + 5\n",
        "x = x + 5\n",
        "x += 5\n",
        "5 = x\n",
        "x - 5\n",
        "x is 5\n",
        "x = x + x\n",
        "print(x)"
      ],
      "execution_count": 0,
      "outputs": []
    },
    {
      "cell_type": "markdown",
      "metadata": {
        "id": "CiaTFdmQ2bSX",
        "colab_type": "text"
      },
      "source": [
        "### Intermediate Values"
      ]
    },
    {
      "cell_type": "code",
      "metadata": {
        "id": "TygBqysw0PuI",
        "colab_type": "code",
        "outputId": "c4628661-5a62-46cd-bb8d-d4919b311aa4",
        "colab": {
          "base_uri": "https://localhost:8080/",
          "height": 35
        }
      },
      "source": [
        "# Assume you expect this code to add up the list and print 'Welcome!' only if \n",
        "# the sum of the list is greater than 23. Use the next cell for the exercise\n",
        "# so that you can use this cell as reference if needed.\n",
        "def foo():\n",
        "  return 6\n",
        "\n",
        "x = foo()\n",
        "for i in [1, 2, 3, 4, 5, 6]:\n",
        "  x += i\n",
        "\n",
        "if x > 23:\n",
        "  print(\"Welcome!\")"
      ],
      "execution_count": 0,
      "outputs": [
        {
          "output_type": "stream",
          "text": [
            "Welcome!\n"
          ],
          "name": "stdout"
        }
      ]
    },
    {
      "cell_type": "code",
      "metadata": {
        "id": "CLWt1wQv14vT",
        "colab_type": "code",
        "colab": {}
      },
      "source": [
        "# Using print debuggging, check intermediate values to figure out why this code\n",
        "# is printing 'Welcome!' when the sum of the list is only 21\n",
        "def foo():\n",
        "  return 6\n",
        "\n",
        "x = foo()\n",
        "for i in [1, 2, 3, 4, 5, 6]:\n",
        "  x += i\n",
        "\n",
        "if x > 23:\n",
        "  print(\"Welcome!\")"
      ],
      "execution_count": 0,
      "outputs": []
    },
    {
      "cell_type": "code",
      "metadata": {
        "id": "CwnlzEqg30BD",
        "colab_type": "code",
        "colab": {}
      },
      "source": [
        "# Once you find the error, correct the code so it does not print 'Welcome!'\n",
        "# Do not change the values in the list as your correction.\n",
        "def foo():\n",
        "  return 6\n",
        "\n",
        "x = foo()\n",
        "for i in [1, 2, 3, 4, 5, 6]:\n",
        "  x += i\n",
        "\n",
        "if x > 23:\n",
        "  print(\"Welcome!\")"
      ],
      "execution_count": 0,
      "outputs": []
    },
    {
      "cell_type": "markdown",
      "metadata": {
        "id": "LFDYq9RFm84D",
        "colab_type": "text"
      },
      "source": [
        "# Further Exploration\n",
        "Looking to learn more? Have extra time during warmup? Here is some additional content to look at after completing the rest of notebook."
      ]
    },
    {
      "cell_type": "markdown",
      "metadata": {
        "id": "FoX-4yhtsxbO",
        "colab_type": "text"
      },
      "source": [
        "## Zip\n",
        "Zip will take multiple iterables and package them together. If the iterables are uneven length, then it will stop when it reaches the end of the shortest iterable."
      ]
    },
    {
      "cell_type": "code",
      "metadata": {
        "id": "oo5sDsCtr8eO",
        "colab_type": "code",
        "outputId": "9e369344-6a19-4cd4-ef33-47eeefebd37a",
        "colab": {
          "base_uri": "https://localhost:8080/",
          "height": 72
        }
      },
      "source": [
        "heroes = ['Spider-man', 'Superman', 'The Hulk']\n",
        "alter_egos = ['Peter Parker', 'Clark Kent', 'Bruce Banner']\n",
        "cities = ['New York', 'Smallville', 'Dayton', 'Gotham']\n",
        "\n",
        "list(zip(heroes, alter_egos, cities))"
      ],
      "execution_count": 0,
      "outputs": [
        {
          "output_type": "execute_result",
          "data": {
            "text/plain": [
              "[('Spider-man', 'Peter Parker', 'New York'),\n",
              " ('Superman', 'Clark Kent', 'Smallville'),\n",
              " ('The Hulk', 'Bruce Banner', 'Dayton')]"
            ]
          },
          "metadata": {
            "tags": []
          },
          "execution_count": 3
        }
      ]
    },
    {
      "cell_type": "markdown",
      "metadata": {
        "id": "Uzhr3rvGtM9W",
        "colab_type": "text"
      },
      "source": [
        "We can then use these zipped up lists to iterate over multiple lists at the exact same time."
      ]
    },
    {
      "cell_type": "code",
      "metadata": {
        "id": "ED05H7dIQ_Pz",
        "colab_type": "code",
        "outputId": "35baea4a-3e0d-4767-e3be-0c00b5e23cc3",
        "colab": {
          "base_uri": "https://localhost:8080/",
          "height": 72
        }
      },
      "source": [
        "for hero, alter_ego in zip(heroes, alter_egos):\n",
        "  print(f'{alter_ego} is {hero}.')"
      ],
      "execution_count": 0,
      "outputs": [
        {
          "output_type": "stream",
          "text": [
            "Peter Parker is Spider-man.\n",
            "Clark Kent is Superman.\n",
            "Bruce Banner is The Hulk.\n"
          ],
          "name": "stdout"
        }
      ]
    },
    {
      "cell_type": "markdown",
      "metadata": {
        "id": "u3gZQG0kpiUH",
        "colab_type": "text"
      },
      "source": [
        "## List Comprehensions\n",
        "Sometimes a programming design pattern becomes common enough to warrant its own special syntax. Python’s list comprehensions are a prime example of such syntactic sugar. List comprehensions are a tool for making a list out of a for loop.\n",
        "\n",
        "I can't explain this as well as Trey Hunner, so go [here](https://treyhunner.com/2015/12/python-list-comprehensions-now-in-color/) after completing this warmup to learn about list comprehensions. They can't do anything different from a normal for loop, but they do make lists in a cleaner neater package and you should know how to use them."
      ]
    },
    {
      "cell_type": "code",
      "metadata": {
        "id": "dTUXC5LlpK0m",
        "colab_type": "code",
        "outputId": "50bf3c25-99ca-4a41-e267-4897b58980ef",
        "colab": {
          "base_uri": "https://localhost:8080/",
          "height": 35
        }
      },
      "source": [
        "arr = [1, 2, 3]\n",
        "arr_doubled = []\n",
        "\n",
        "for num in arr:\n",
        "  arr_doubled.append(num*2)\n",
        "\n",
        "arr_doubled"
      ],
      "execution_count": 0,
      "outputs": [
        {
          "output_type": "execute_result",
          "data": {
            "text/plain": [
              "[2, 4, 6]"
            ]
          },
          "metadata": {
            "tags": []
          },
          "execution_count": 38
        }
      ]
    },
    {
      "cell_type": "code",
      "metadata": {
        "id": "ms3YVg0trg53",
        "colab_type": "code",
        "outputId": "4ef17076-0cb0-47fa-a8ff-affb0ab98f4c",
        "colab": {
          "base_uri": "https://localhost:8080/",
          "height": 35
        }
      },
      "source": [
        "arr = [1, 2, 3]\n",
        "\n",
        "arr_doubled = [num*2 for num in arr]\n",
        "\n",
        "arr_doubled"
      ],
      "execution_count": 0,
      "outputs": [
        {
          "output_type": "execute_result",
          "data": {
            "text/plain": [
              "[2, 4, 6]"
            ]
          },
          "metadata": {
            "tags": []
          },
          "execution_count": 28
        }
      ]
    },
    {
      "cell_type": "markdown",
      "metadata": {
        "id": "V-uPvymQopYP",
        "colab_type": "text"
      },
      "source": [
        "## Else\n",
        "When interrupting or exiting loops prematurely, it may be helpful to know if the loop executed fully or exited early. We could use an extra variable or print statements to track whether we exit early, but this can get a bit messy or tedious."
      ]
    },
    {
      "cell_type": "code",
      "metadata": {
        "id": "KvEzdr_hhjbX",
        "colab_type": "code",
        "outputId": "3e2b722d-7fc3-4c52-dc6c-d05c269d446e",
        "colab": {
          "base_uri": "https://localhost:8080/",
          "height": 199
        }
      },
      "source": [
        "for i in range(1, 100):\n",
        "  if i*i == 100:\n",
        "    print('Exited Early')\n",
        "    break\n",
        "  if (i % 5 == 0) and (i / 22 == 5):\n",
        "    print('Exited Early')\n",
        "    break\n",
        "  print(i)"
      ],
      "execution_count": 0,
      "outputs": [
        {
          "output_type": "stream",
          "text": [
            "1\n",
            "2\n",
            "3\n",
            "4\n",
            "5\n",
            "6\n",
            "7\n",
            "8\n",
            "9\n",
            "Exited Early\n"
          ],
          "name": "stdout"
        }
      ]
    },
    {
      "cell_type": "markdown",
      "metadata": {
        "id": "V4Ytzn8pihf2",
        "colab_type": "text"
      },
      "source": [
        "The example above is obviously contrived but you get the idea, for every break you would need a print statement. Below is another example where knowing whether the loop completes or not is tracked by an extra variable."
      ]
    },
    {
      "cell_type": "code",
      "metadata": {
        "id": "jQwKXN1xiX6_",
        "colab_type": "code",
        "outputId": "0f877ebe-ede3-427e-b015-ac11dceaf08e",
        "colab": {
          "base_uri": "https://localhost:8080/",
          "height": 35
        }
      },
      "source": [
        "numbers = [1, 3, 5]\n",
        "list_content_assessment = \"List does not contain an even number\"\n",
        "for ele in numbers: \n",
        "    if ele % 2 == 0: \n",
        "        list_content_assessment = \"List contains an even number\"\n",
        "        break\n",
        "print(list_content_assessment) "
      ],
      "execution_count": 0,
      "outputs": [
        {
          "output_type": "stream",
          "text": [
            "List does not contain an even number\n"
          ],
          "name": "stdout"
        }
      ]
    },
    {
      "cell_type": "markdown",
      "metadata": {
        "id": "QTxguEICqKnu",
        "colab_type": "text"
      },
      "source": [
        "And here is how we can simplify and save a bit of memory by using an `else` statement. The contents of the `else` statement only execute if the loop completes fully."
      ]
    },
    {
      "cell_type": "code",
      "metadata": {
        "id": "miQD-ahMpsAZ",
        "colab_type": "code",
        "outputId": "9b2d9b48-f728-4a5d-d658-7ec3b1c6e949",
        "colab": {
          "base_uri": "https://localhost:8080/",
          "height": 35
        }
      },
      "source": [
        "numbers = [1, 3, 5] \n",
        "for ele in numbers: \n",
        "    if ele % 2 == 0: \n",
        "        print (\"List contains an even number\") \n",
        "        break\n",
        "else: # This else executes only if break is NEVER reached and loop terminated after all iterations.\n",
        "    print (\"List does not contain an even number\") "
      ],
      "execution_count": 0,
      "outputs": [
        {
          "output_type": "stream",
          "text": [
            "List does not contain an even number\n"
          ],
          "name": "stdout"
        }
      ]
    },
    {
      "cell_type": "markdown",
      "metadata": {
        "id": "hXHTVhcnzBbM",
        "colab_type": "text"
      },
      "source": [
        "## Supplemental Content"
      ]
    },
    {
      "cell_type": "markdown",
      "metadata": {
        "id": "rYsPpCP6zvnn",
        "colab_type": "text"
      },
      "source": [
        "[10 Minute Video on For and While Loops](https://www.youtube.com/watch?v=6iF8Xb7Z3wQ)\n",
        "\n",
        "[Python Wiki](https://wiki.python.org/moin/ForLoop)\n",
        "\n",
        "[Documentation](https://docs.python.org/3/tutorial/controlflow.html)\n",
        "\n",
        "[List Comprehensions](https://treyhunner.com/2015/12/python-list-comprehensions-now-in-color/)"
      ]
    }
  ]
}